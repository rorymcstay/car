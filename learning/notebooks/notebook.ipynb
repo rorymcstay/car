{
 "cells": [
  {
   "cell_type": "code",
   "execution_count": 1,
   "metadata": {},
   "outputs": [
    {
     "name": "stderr",
     "output_type": "stream",
     "text": [
      "May 20, 2019 12:18:33 AM HazelcastClient\n",
      "INFO: [3.12] [dev] [hz.client_0] A non-empty group password is configured for the Hazelcast client. Starting with Hazelcast IMDG version 3.11, clients with the same group name, but with different group passwords (that do not use authentication) will be accepted to a cluster. The group password configuration will be removed completely in a future release.\n",
      "May 20, 2019 12:18:33 AM HazelcastClient.LifecycleService\n",
      "INFO: [3.12] [dev] [hz.client_0] (20190319 - 3b38a46) HazelcastClient is STARTING\n",
      "May 20, 2019 12:18:33 AM HazelcastClient.ClusterService\n",
      "INFO: [3.12] [dev] [hz.client_0] Connecting to Address(host=hazelcast, port=5701)\n",
      "May 20, 2019 12:18:33 AM HazelcastClient.ConnectionManager\n",
      "INFO: [3.12] [dev] [hz.client_0] Authenticated with <hazelcast.reactor.AsyncoreConnection connected hazelcast:5701 at 0x7fc5842757b8>\n",
      "May 20, 2019 12:18:33 AM HazelcastClient.ClusterService\n",
      "INFO: [3.12] [dev] [hz.client_0] New member list:\n",
      "\n",
      "Members [1] {\n",
      "\tMember [172.18.0.6]:5701 - da93a968-ec8e-4e27-8b29-404996ef1739\n",
      "}\n",
      "\n",
      "May 20, 2019 12:18:33 AM HazelcastClient.LifecycleService\n",
      "INFO: [3.12] [dev] [hz.client_0] (20190319 - 3b38a46) HazelcastClient is CONNECTED\n",
      "May 20, 2019 12:18:33 AM HazelcastClient\n",
      "INFO: [3.12] [dev] [hz.client_0] Client started.\n"
     ]
    }
   ],
   "source": [
    "from hazelcast import ClientConfig, HazelcastClient\n",
    "\n",
    "hazelcast_params = {\n",
    "    \"host\": \"hazelcast\",\n",
    "    \"port\": 5701\n",
    "}\n",
    "\n",
    "config = ClientConfig()\n",
    "config.network_config.addresses.append(\"{host}:{port}\".format(**hazelcast_params))\n",
    "\n",
    "hzClient = HazelcastClient(config)"
   ]
  },
  {
   "cell_type": "code",
   "execution_count": 4,
   "metadata": {},
   "outputs": [],
   "source": [
    "res= hzClient.get_map(\"donedeal-items\")"
   ]
  },
  {
   "cell_type": "code",
   "execution_count": 16,
   "metadata": {},
   "outputs": [],
   "source": [
    "hist = hzClient.get_list(\"donedeal-history-dd_mm_YY\")\n",
    "items = hzClient.get_map(\"donedeal-items\")"
   ]
  },
  {
   "cell_type": "code",
   "execution_count": 21,
   "metadata": {},
   "outputs": [
    {
     "ename": "ModuleNotFoundError",
     "evalue": "No module named 'selenium'",
     "output_type": "error",
     "traceback": [
      "\u001b[0;31m---------------------------------------------------------------------------\u001b[0m",
      "\u001b[0;31mModuleNotFoundError\u001b[0m                       Traceback (most recent call last)",
      "\u001b[0;32m<ipython-input-21-2424db129f04>\u001b[0m in \u001b[0;36m<module>\u001b[0;34m\u001b[0m\n\u001b[0;32m----> 1\u001b[0;31m \u001b[0;32mimport\u001b[0m \u001b[0mselenium\u001b[0m\u001b[0;34m.\u001b[0m\u001b[0mwebdriver\u001b[0m \u001b[0;32mas\u001b[0m \u001b[0mwd\u001b[0m\u001b[0;34m\u001b[0m\u001b[0;34m\u001b[0m\u001b[0m\n\u001b[0m\u001b[1;32m      2\u001b[0m \u001b[0;34m\u001b[0m\u001b[0m\n\u001b[1;32m      3\u001b[0m \u001b[0mwd\u001b[0m\u001b[0;34m.\u001b[0m\u001b[0mRemote\u001b[0m\u001b[0;34m(\u001b[0m\u001b[0;34m\"http://worker-6000/wd/hub\"\u001b[0m\u001b[0;34m)\u001b[0m\u001b[0;34m\u001b[0m\u001b[0;34m\u001b[0m\u001b[0m\n",
      "\u001b[0;31mModuleNotFoundError\u001b[0m: No module named 'selenium'"
     ]
    },
    {
     "name": "stderr",
     "output_type": "stream",
     "text": [
      "May 20, 2019 12:30:00 AM HazelcastClient.HeartbeatService\n",
      "WARNING: [3.12] [dev] [hz.client_0] Heartbeat: Did not hear back after 64.45542407035828s from <hazelcast.reactor.AsyncoreConnection connected hazelcast:5701 at 0x7fc5842757b8>\n",
      "May 20, 2019 12:30:35 AM HazelcastClient.LifecycleService\n",
      "INFO: [3.12] [dev] [hz.client_0] (20190319 - 3b38a46) HazelcastClient is DISCONNECTED\n"
     ]
    }
   ],
   "source": [
    "import selenium.webdriver as wd\n",
    "\n",
    "wd.Remote(\"http://worker-6000/wd/hub\")"
   ]
  },
  {
   "cell_type": "code",
   "execution_count": 19,
   "metadata": {},
   "outputs": [],
   "source": [
    "t = items.get(\"21783760\").result()"
   ]
  },
  {
   "cell_type": "code",
   "execution_count": 20,
   "metadata": {},
   "outputs": [
    {
     "ename": "AttributeError",
     "evalue": "'NoneType' object has no attribute 'tostring'",
     "output_type": "error",
     "traceback": [
      "\u001b[0;31m---------------------------------------------------------------------------\u001b[0m",
      "\u001b[0;31mAttributeError\u001b[0m                            Traceback (most recent call last)",
      "\u001b[0;32m<ipython-input-20-be6fad0be1f1>\u001b[0m in \u001b[0;36m<module>\u001b[0;34m\u001b[0m\n\u001b[1;32m      1\u001b[0m \u001b[0;32mimport\u001b[0m \u001b[0mjson\u001b[0m\u001b[0;34m\u001b[0m\u001b[0;34m\u001b[0m\u001b[0m\n\u001b[1;32m      2\u001b[0m \u001b[0;34m\u001b[0m\u001b[0m\n\u001b[0;32m----> 3\u001b[0;31m \u001b[0mprint\u001b[0m\u001b[0;34m(\u001b[0m\u001b[0mt\u001b[0m\u001b[0;34m.\u001b[0m\u001b[0mtostring\u001b[0m\u001b[0;34m(\u001b[0m\u001b[0;34m)\u001b[0m\u001b[0;34m)\u001b[0m\u001b[0;34m\u001b[0m\u001b[0;34m\u001b[0m\u001b[0m\n\u001b[0m",
      "\u001b[0;31mAttributeError\u001b[0m: 'NoneType' object has no attribute 'tostring'"
     ]
    }
   ],
   "source": [
    "import json\n",
    "\n",
    "print(t.tostring())"
   ]
  },
  {
   "cell_type": "code",
   "execution_count": null,
   "metadata": {},
   "outputs": [],
   "source": []
  }
 ],
 "metadata": {
  "kernelspec": {
   "display_name": "Python 3",
   "language": "python",
   "name": "python3"
  },
  "language_info": {
   "codemirror_mode": {
    "name": "ipython",
    "version": 3
   },
   "file_extension": ".py",
   "mimetype": "text/x-python",
   "name": "python",
   "nbconvert_exporter": "python",
   "pygments_lexer": "ipython3",
   "version": "3.7.3"
  }
 },
 "nbformat": 4,
 "nbformat_minor": 1
}
